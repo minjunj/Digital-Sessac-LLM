{
 "cells": [
  {
   "cell_type": "code",
   "execution_count": 1,
   "id": "b9d02d40",
   "metadata": {},
   "outputs": [
    {
     "name": "stdout",
     "output_type": "stream",
     "text": [
      "Requirement already satisfied: transformers in /Users/minjun/anaconda3/lib/python3.11/site-packages (4.39.2)\n",
      "Requirement already satisfied: filelock in /Users/minjun/anaconda3/lib/python3.11/site-packages (from transformers) (3.9.0)\n",
      "Requirement already satisfied: huggingface-hub<1.0,>=0.19.3 in /Users/minjun/anaconda3/lib/python3.11/site-packages (from transformers) (0.22.2)\n",
      "Requirement already satisfied: numpy>=1.17 in /Users/minjun/anaconda3/lib/python3.11/site-packages (from transformers) (1.25.2)\n",
      "Requirement already satisfied: packaging>=20.0 in /Users/minjun/anaconda3/lib/python3.11/site-packages (from transformers) (23.1)\n",
      "Requirement already satisfied: pyyaml>=5.1 in /Users/minjun/anaconda3/lib/python3.11/site-packages (from transformers) (6.0.1)\n",
      "Requirement already satisfied: regex!=2019.12.17 in /Users/minjun/anaconda3/lib/python3.11/site-packages (from transformers) (2023.10.3)\n",
      "Requirement already satisfied: requests in /Users/minjun/anaconda3/lib/python3.11/site-packages (from transformers) (2.31.0)\n",
      "Requirement already satisfied: tokenizers<0.19,>=0.14 in /Users/minjun/anaconda3/lib/python3.11/site-packages (from transformers) (0.15.2)\n",
      "Requirement already satisfied: safetensors>=0.4.1 in /Users/minjun/anaconda3/lib/python3.11/site-packages (from transformers) (0.4.2)\n",
      "Requirement already satisfied: tqdm>=4.27 in /Users/minjun/anaconda3/lib/python3.11/site-packages (from transformers) (4.65.0)\n",
      "Requirement already satisfied: fsspec>=2023.5.0 in /Users/minjun/anaconda3/lib/python3.11/site-packages (from huggingface-hub<1.0,>=0.19.3->transformers) (2024.3.1)\n",
      "Requirement already satisfied: typing-extensions>=3.7.4.3 in /Users/minjun/anaconda3/lib/python3.11/site-packages (from huggingface-hub<1.0,>=0.19.3->transformers) (4.9.0)\n",
      "Requirement already satisfied: charset-normalizer<4,>=2 in /Users/minjun/anaconda3/lib/python3.11/site-packages (from requests->transformers) (2.0.4)\n",
      "Requirement already satisfied: idna<4,>=2.5 in /Users/minjun/anaconda3/lib/python3.11/site-packages (from requests->transformers) (3.4)\n",
      "Requirement already satisfied: urllib3<3,>=1.21.1 in /Users/minjun/anaconda3/lib/python3.11/site-packages (from requests->transformers) (1.26.18)\n",
      "Requirement already satisfied: certifi>=2017.4.17 in /Users/minjun/anaconda3/lib/python3.11/site-packages (from requests->transformers) (2023.11.17)\n"
     ]
    }
   ],
   "source": [
    "!pip install transformers"
   ]
  },
  {
   "cell_type": "code",
   "execution_count": null,
   "id": "15fe3e2a",
   "metadata": {},
   "outputs": [],
   "source": []
  },
  {
   "cell_type": "code",
   "execution_count": 2,
   "id": "d9a967be",
   "metadata": {},
   "outputs": [
    {
     "name": "stdout",
     "output_type": "stream",
     "text": [
      "Collecting git+https://github.com/huggingface/accelerate\n",
      "  Cloning https://github.com/huggingface/accelerate to /private/var/folders/h4/q4pswnxx7w1_0cwxcyzkphgm0000gn/T/pip-req-build-n2vgyy2y\n",
      "  Running command git clone --filter=blob:none --quiet https://github.com/huggingface/accelerate /private/var/folders/h4/q4pswnxx7w1_0cwxcyzkphgm0000gn/T/pip-req-build-n2vgyy2y\n",
      "  Resolved https://github.com/huggingface/accelerate to commit 16488be9a490e97012ccec5f466c8abc365258b1\n",
      "  Installing build dependencies ... \u001b[?25ldone\n",
      "\u001b[?25h  Getting requirements to build wheel ... \u001b[?25ldone\n",
      "\u001b[?25h  Preparing metadata (pyproject.toml) ... \u001b[?25ldone\n",
      "\u001b[?25hRequirement already satisfied: numpy>=1.17 in /Users/minjun/anaconda3/lib/python3.11/site-packages (from accelerate==0.30.0.dev0) (1.25.2)\n",
      "Requirement already satisfied: packaging>=20.0 in /Users/minjun/anaconda3/lib/python3.11/site-packages (from accelerate==0.30.0.dev0) (23.1)\n",
      "Requirement already satisfied: psutil in /Users/minjun/anaconda3/lib/python3.11/site-packages (from accelerate==0.30.0.dev0) (5.9.0)\n",
      "Requirement already satisfied: pyyaml in /Users/minjun/anaconda3/lib/python3.11/site-packages (from accelerate==0.30.0.dev0) (6.0.1)\n",
      "Requirement already satisfied: torch>=1.10.0 in /Users/minjun/anaconda3/lib/python3.11/site-packages (from accelerate==0.30.0.dev0) (2.1.1)\n",
      "Requirement already satisfied: huggingface-hub in /Users/minjun/anaconda3/lib/python3.11/site-packages (from accelerate==0.30.0.dev0) (0.22.2)\n",
      "Requirement already satisfied: safetensors>=0.3.1 in /Users/minjun/anaconda3/lib/python3.11/site-packages (from accelerate==0.30.0.dev0) (0.4.2)\n",
      "Requirement already satisfied: filelock in /Users/minjun/anaconda3/lib/python3.11/site-packages (from torch>=1.10.0->accelerate==0.30.0.dev0) (3.9.0)\n",
      "Requirement already satisfied: typing-extensions in /Users/minjun/anaconda3/lib/python3.11/site-packages (from torch>=1.10.0->accelerate==0.30.0.dev0) (4.9.0)\n",
      "Requirement already satisfied: sympy in /Users/minjun/anaconda3/lib/python3.11/site-packages (from torch>=1.10.0->accelerate==0.30.0.dev0) (1.11.1)\n",
      "Requirement already satisfied: networkx in /Users/minjun/anaconda3/lib/python3.11/site-packages (from torch>=1.10.0->accelerate==0.30.0.dev0) (3.1)\n",
      "Requirement already satisfied: jinja2 in /Users/minjun/anaconda3/lib/python3.11/site-packages (from torch>=1.10.0->accelerate==0.30.0.dev0) (3.1.2)\n",
      "Requirement already satisfied: fsspec in /Users/minjun/anaconda3/lib/python3.11/site-packages (from torch>=1.10.0->accelerate==0.30.0.dev0) (2024.3.1)\n",
      "Requirement already satisfied: requests in /Users/minjun/anaconda3/lib/python3.11/site-packages (from huggingface-hub->accelerate==0.30.0.dev0) (2.31.0)\n",
      "Requirement already satisfied: tqdm>=4.42.1 in /Users/minjun/anaconda3/lib/python3.11/site-packages (from huggingface-hub->accelerate==0.30.0.dev0) (4.65.0)\n",
      "Requirement already satisfied: MarkupSafe>=2.0 in /Users/minjun/anaconda3/lib/python3.11/site-packages (from jinja2->torch>=1.10.0->accelerate==0.30.0.dev0) (2.1.1)\n",
      "Requirement already satisfied: charset-normalizer<4,>=2 in /Users/minjun/anaconda3/lib/python3.11/site-packages (from requests->huggingface-hub->accelerate==0.30.0.dev0) (2.0.4)\n",
      "Requirement already satisfied: idna<4,>=2.5 in /Users/minjun/anaconda3/lib/python3.11/site-packages (from requests->huggingface-hub->accelerate==0.30.0.dev0) (3.4)\n",
      "Requirement already satisfied: urllib3<3,>=1.21.1 in /Users/minjun/anaconda3/lib/python3.11/site-packages (from requests->huggingface-hub->accelerate==0.30.0.dev0) (1.26.18)\n",
      "Requirement already satisfied: certifi>=2017.4.17 in /Users/minjun/anaconda3/lib/python3.11/site-packages (from requests->huggingface-hub->accelerate==0.30.0.dev0) (2023.11.17)\n",
      "Requirement already satisfied: mpmath>=0.19 in /Users/minjun/anaconda3/lib/python3.11/site-packages (from sympy->torch>=1.10.0->accelerate==0.30.0.dev0) (1.3.0)\n"
     ]
    }
   ],
   "source": [
    "!pip install git+https://github.com/huggingface/accelerate"
   ]
  },
  {
   "cell_type": "code",
   "execution_count": 3,
   "id": "8b85e094",
   "metadata": {},
   "outputs": [],
   "source": [
    "# pip install accelerate"
   ]
  },
  {
   "cell_type": "code",
   "execution_count": 4,
   "id": "f43e1859",
   "metadata": {},
   "outputs": [],
   "source": [
    "from transformers import AutoTokenizer\n",
    "import transformers \n",
    "import torch\n",
    "model = \"PY007/TinyLlama-1.1B-Chat-v0.1\"\n",
    "tokenizer = AutoTokenizer.from_pretrained(model)\n",
    "pipeline = transformers.pipeline(\n",
    "    \"text-generation\",\n",
    "    model=model,\n",
    "    torch_dtype=torch.float16,\n",
    "    device_map=\"auto\",\n",
    ")\n"
   ]
  },
  {
   "cell_type": "code",
   "execution_count": 5,
   "id": "0930ee6b",
   "metadata": {},
   "outputs": [
    {
     "name": "stdout",
     "output_type": "stream",
     "text": [
      "Result: ### Human: the question is next to \"question : \" part. when answering the question, keep fallow 2 roles. 1. you must done complete ssntance. 2. if you left extra token, stop precess.\n",
      " question : please explain the relationship between japan to korea.\n",
      "\n",
      "### Assistant: Sure, I can help you with that!\n",
      "\n",
      "The relationship between Japan and Korea has been a subject of debate among scholars for years. The two countries have a long history of political and cultural ties, as well as economic and social interactions.\n",
      "\n",
      "Korea was once inhabited by the Japenese people, who migrated from China over a period of time around 3000 years ago. The first records of their presence come from the ancient Chinese texts known\n"
     ]
    }
   ],
   "source": [
    "prompt = '''the question is next to \"question : \" part. when answering the question, keep fallow 2 roles. 1. you must done complete ssntance. 2. if you left extra token, stop precess.\n",
    " question : please explain the relationship between japan to korea.'''\n",
    "formatted_prompt = (\n",
    "    f\"### Human: {prompt}\\n\\n### Assistant:\"\n",
    ")\n",
    "\n",
    "\n",
    "sequences = pipeline(\n",
    "    formatted_prompt,\n",
    "    do_sample=True, # 확률적 샘플링\n",
    "    top_k=50, # 확률적 샘플링 시 고려되는 상위 N개의 후보\n",
    "    top_p = 0.7, # 확률적 샘플링 시 고려되는 상위 N%의 후보\n",
    "    num_return_sequences=1, # 답변 횟수\n",
    "    repetition_penalty=1.1, # 반복 토큰 방지. 1이상이면 대게 많이 줄어듦\n",
    "    max_new_tokens=100, # 한 번에 생성할 최대 토큰 수\n",
    ")\n",
    "for seq in sequences:\n",
    "    print(f\"Result: {seq['generated_text']}\")"
   ]
  },
  {
   "cell_type": "code",
   "execution_count": null,
   "id": "5cae6913",
   "metadata": {},
   "outputs": [],
   "source": []
  },
  {
   "cell_type": "markdown",
   "id": "ba27c26c",
   "metadata": {},
   "source": [
    "## 3차시 실습 (60분 체험형 실습)\n",
    "\n",
    "### 제목 - LLM for AI Developer : Numbering F\n",
    "\n",
    "- 바로 실습할 수 있게 따라할 수 있게 진행할 예정\n",
    "- 주피터 노트북 환경에서 실행.\n",
    "\n",
    "---\n",
    "\n",
    "advanced\n",
    "\n",
    "- API\n",
    "- 제로샷 투샷 few shot 방법론 실습. -> 진왕님 세션에서 다루기로 변경 (GPT API 키 이용) [잠정]\n",
    "- auto GPT (제거)\n",
    "- fine turning이 이미 된 LLM을 비교 (어쩔끼...)\n",
    "- 로컬에서 LLM을 직접 만들고, 세팅한 뒤\n",
    "- streamlit과 같은 비쥬얼 도구로 \"나만의 LLM 페이지\" 를 제작하자?\n",
    "- 좀 60분 안에 할 수 있게, 미리 docker image를 준비해두고, 안되면 주고 가능하면 직접하게 llm api server, fe 로 제작.\n",
    "- 15 분 이론, 35분 개발&배포, 10분 마무리"
   ]
  },
  {
   "cell_type": "markdown",
   "id": "b7f43f39",
   "metadata": {},
   "source": [
    "# 로컬 LLM으로 나만의 LLM 서비스 개발하기\n",
    "\n",
    "### 기초\n",
    "- ### 로컬 LLM TinyLlama 1.1B 다루기\n",
    "- ### API 서버 구축 (라마 용량이 좀 되니까 이미지말고 로컬에서) [여유되면 무리하게 이미지 올리고..?]\n",
    "- ### streamlit 으로 데이터 받아서 Viewing하기\n",
    "\n",
    "### 고급\n",
    "- ### 프롬포트 엔지니어링을 해서 \"대신 ~ 해주는 LLM\" 만들기 같은 챌린지 제공\n",
    "\n",
    "\n",
    "구성\n",
    "\n",
    "server.py - llm 서버, post?\n",
    "\n",
    "front.py - streamlit"
   ]
  },
  {
   "cell_type": "code",
   "execution_count": null,
   "id": "6737c866",
   "metadata": {},
   "outputs": [],
   "source": []
  }
 ],
 "metadata": {
  "kernelspec": {
   "display_name": "Python 3 (ipykernel)",
   "language": "python",
   "name": "python3"
  },
  "language_info": {
   "codemirror_mode": {
    "name": "ipython",
    "version": 3
   },
   "file_extension": ".py",
   "mimetype": "text/x-python",
   "name": "python",
   "nbconvert_exporter": "python",
   "pygments_lexer": "ipython3",
   "version": "3.11.5"
  }
 },
 "nbformat": 4,
 "nbformat_minor": 5
}
